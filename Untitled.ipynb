{
 "cells": [
  {
   "cell_type": "code",
   "execution_count": 1,
   "id": "22e118a8",
   "metadata": {
    "pycharm": {
     "name": "#%%\n"
    }
   },
   "outputs": [
    {
     "name": "stderr",
     "output_type": "stream",
     "text": [
      "2022-09-13 14:57:32.035263: W tensorflow/stream_executor/platform/default/dso_loader.cc:64] Could not load dynamic library 'libcudart.so.11.0'; dlerror: libcudart.so.11.0: cannot open shared object file: No such file or directory\n",
      "2022-09-13 14:57:32.035281: I tensorflow/stream_executor/cuda/cudart_stub.cc:29] Ignore above cudart dlerror if you do not have a GPU set up on your machine.\n"
     ]
    }
   ],
   "source": [
    "import tensorflow as tf\n",
    "import numpy as np\n",
    "import pyassimp\n",
    "import pickle\n"
   ]
  },
  {
   "cell_type": "code",
   "execution_count": 10,
   "id": "de0f64c6",
   "metadata": {
    "pycharm": {
     "name": "#%%\n"
    }
   },
   "outputs": [],
   "source": [
    "class SignedDensityField(object):\n",
    "    \"\"\"Data is stored in the following way\n",
    "        data[x, y, z]\n",
    "    update to integrate tensorflow\n",
    "    \"\"\"\n",
    "\n",
    "    def __init__(self, data, origin, delta):\n",
    "        self.data = data\n",
    "        self.nx, self.ny, self.nz = data.shape\n",
    "        self.origin = origin\n",
    "        self.delta = delta\n",
    "        self.min_coords = origin\n",
    "        self.max_coords = self.origin + delta * np.array(data.shape)\n",
    "\n",
    "        self.data_tf = tf.constant(self.data, dtype=tf.float64)\n",
    "        self.delta_tf = tf.constant([delta], dtype=tf.float64)\n",
    "        self.origin_tf = tf.constant(self.origin, dtype=tf.float64)\n",
    "        self.min = tf.reshape(tf.constant([0, 0, 0], dtype=tf.int64), (1, 3))\n",
    "        self.max = tf.reshape(tf.constant(\n",
    "            [self.nx - 1, self.ny - 1, self.nz - 1], dtype=tf.int64), (1, 3))\n",
    "\n",
    "    def resize(self, ratio):\n",
    "        self.data *= ratio\n",
    "        self.data_tf *= ratio\n",
    "\n",
    "        self.delta *= ratio\n",
    "        self.origin *= ratio\n",
    "\n",
    "        self.delta_tf *= ratio\n",
    "        self.origin_tf *= ratio\n",
    "\n",
    "    def _rel_pos_to_idxes(self, rel_pos):\n",
    "        i_min = np.array([0, 0, 0], dtype=np.int)\n",
    "        i_max = np.array([self.nx - 1, self.ny - 1, self.nz - 1], dtype=np.int)\n",
    "        idx = ((rel_pos - self.origin) / self.delta).astype(int)\n",
    "        return np.clip(idx, i_min, i_max)\n",
    "\n",
    "    def _rel_pos_to_idxes_tf(self, rel_pos):\n",
    "\n",
    "        return tf.clip_by_value(tf.cast(\n",
    "            ((rel_pos - self.origin_tf) / self.delta_tf), dtype=tf.int64\n",
    "        ), self.min, self.max)\n",
    "\n",
    "    def get_distance(self, rel_pos):\n",
    "        idxes = self._rel_pos_to_idxes(rel_pos)\n",
    "        assert idxes.shape[0] == rel_pos.shape[0]\n",
    "        return self.data[idxes[..., 0], idxes[..., 1], idxes[..., 2]]\n",
    "\n",
    "    def get_distance_tf(self, rel_pos):\n",
    "        idxes = self._rel_pos_to_idxes_tf(rel_pos)\n",
    "        assert idxes.shape[0] == rel_pos.shape[0]\n",
    "        return tf.gather_nd(self.data_tf, idxes)\n",
    "\n",
    "    def get_distance_grad(self, rel_pos):\n",
    "        idxes = self._rel_pos_to_idxes(rel_pos)\n",
    "        i_min = np.array([0, 0, 0], dtype=np.int)\n",
    "        i_max = np.array([self.nx - 1, self.ny - 1, self.nz - 1], dtype=np.int)\n",
    "        neighbor1 = np.clip(idxes + 1, i_min, i_max)\n",
    "        neighbor2 = np.clip(idxes - 1, i_min, i_max)\n",
    "        dx = (\n",
    "            self.data[neighbor1[..., 0], idxes[..., 1], idxes[..., 2]]\n",
    "            - self.data[neighbor2[..., 0], idxes[..., 1], idxes[..., 2]]\n",
    "        ) / (2 * self.delta)\n",
    "\n",
    "        dy = (\n",
    "            self.data[idxes[..., 0], neighbor1[..., 1], idxes[..., 2]]\n",
    "            - self.data[idxes[..., 0], neighbor2[..., 1], idxes[..., 2]]\n",
    "        ) / (2 * self.delta)\n",
    "\n",
    "        dz = (\n",
    "            self.data[idxes[..., 0], idxes[..., 1], neighbor1[..., 2]]\n",
    "            - self.data[idxes[..., 0], idxes[..., 1], neighbor2[..., 2]]\n",
    "        ) / (2 * self.delta)\n",
    "        return np.stack([dx, dy, dz], axis=-1)\n",
    "\n",
    "    def get_distance_grad_tf(self, rel_pos):\n",
    "        idxes = tf.cast(self._rel_pos_to_idxes_tf(rel_pos), dtype=tf.int64)\n",
    "\n",
    "        neighbor1 = tf.math.minimum(\n",
    "            tf.math.maximum(idxes + 1, self.min), self.max)\n",
    "        neighbor2 = tf.math.minimum(tf.math.maximum(\n",
    "            idxes - 1, self.min), self.max)  # P x 3\n",
    "\n",
    "        dx1 = tf.gather_nd(self.data_tf, tf.stack(\n",
    "            [neighbor1[..., 0], idxes[..., 1], idxes[..., 2]], axis=-1))\n",
    "        dx2 = tf.gather_nd(self.data_tf, tf.stack(\n",
    "            [neighbor2[..., 0], idxes[..., 1], idxes[..., 2]], axis=-1))\n",
    "        dy1 = tf.gather_nd(self.data_tf, tf.stack(\n",
    "            [idxes[..., 0], neighbor1[..., 1], idxes[..., 2]], axis=-1))\n",
    "        dy2 = tf.gather_nd(self.data_tf, tf.stack(\n",
    "            [idxes[..., 0], neighbor2[..., 1], idxes[..., 2]], axis=-1))\n",
    "        dz1 = tf.gather_nd(self.data_tf, tf.stack(\n",
    "            [idxes[..., 0], idxes[..., 1], neighbor1[..., 2]], axis=-1))\n",
    "        dz2 = tf.gather_nd(self.data_tf, tf.stack(\n",
    "            [idxes[..., 0], idxes[..., 1], neighbor2[..., 2]], axis=-1))\n",
    "        dx = (\n",
    "            dx1 - dx2\n",
    "        ) / (2 * self.delta)\n",
    "\n",
    "        dx = tf.where(dx == 0, tf.cast(0.0001, dtype=tf.float64), dx)\n",
    "        # tf.print(\"PULICA DE TIGRULETZ\")\n",
    "        # tf.print(rel_pos, summarize=-1)\n",
    "        # tf.print(\"HAOLEO\")\n",
    "        # tf.print(dx, summarize=-1)\n",
    "\n",
    "        dy = (\n",
    "            dy1 - dy2\n",
    "        ) / (2 * self.delta)\n",
    "        dy = tf.where(dy == 0, tf.cast(0.0001, dtype=tf.float64), dy)\n",
    "\n",
    "        dz = (\n",
    "            dz1 - dz2\n",
    "        ) / (2 * self.delta)\n",
    "\n",
    "        dz = tf.where(dz == 0, tf.cast(0.0001, dtype=tf.float64), dz)\n",
    "        return tf.stack([dx, dy, dz], axis=-1)\n",
    "\n",
    "    def trim(self, dim, center=True):\n",
    "        x_padding = (self.nx - dim) / 2\n",
    "        y_padding = (self.ny - dim) / 2\n",
    "        z_padding = (self.nz - dim) / 2\n",
    "        if center:\n",
    "            assert min(min(x_padding, y_padding), z_padding) >= 0\n",
    "            self.data = self.data[\n",
    "                x_padding: self.nx - x_padding,\n",
    "                y_padding: self.ny - y_padding,\n",
    "                z_padding: self.nz - z_padding,\n",
    "            ]\n",
    "        self.data = self.data[:dim, :dim, :dim]  # even odd\n",
    "        self.origin = (\n",
    "            self.origin +\n",
    "            np.array([x_padding, y_padding, z_padding]) * self.delta\n",
    "        )\n",
    "        self.nx, self.ny, self.nz = dim, dim, dim\n",
    "        self.max_coords = self.origin + self.delta * np.array(self.data.shape)\n",
    "        self.data_tf = tf.constant(self.data, dtype=tf.float64)\n",
    "        self.origin_tf = tf.constant(self.origin)\n",
    "        self.max = tf.constant(\n",
    "            [self.nx - 1, self.ny - 1, self.nz - 1], dtype=tf.float64)\n",
    "\n",
    "    def dump(self, pkl_file):\n",
    "        data = {}\n",
    "        data[\"data\"] = self.data\n",
    "        data[\"origin\"] = self.origin\n",
    "        data[\"delta\"] = self.delta\n",
    "        pickle.dump(data, open(pkl_file, \"wb\"), protocol=2)\n",
    "\n",
    "    def visualize(self, max_dist=0.1):\n",
    "        try:\n",
    "            from mayavi import mlab\n",
    "        except:\n",
    "            print(\"mayavi is not installed!\")\n",
    "\n",
    "        figure = mlab.figure(\"Signed Density Field\")\n",
    "        # The dimensions will be expressed in cm for better visualization.\n",
    "        SCALE = 100\n",
    "        data = np.copy(self.data)\n",
    "        data = np.minimum(max_dist, data)\n",
    "        xmin, ymin, zmin = SCALE * self.origin\n",
    "        xmax, ymax, zmax = SCALE * self.max_coords\n",
    "        delta = SCALE * self.delta\n",
    "        xi, yi, zi = np.mgrid[xmin:xmax:delta,\n",
    "                              ymin:ymax:delta, zmin:zmax:delta]\n",
    "        data[data <= 0] -= 0.5  # 0.2\n",
    "\n",
    "        data = -data\n",
    "        xi = xi[: data.shape[0], : data.shape[1], : data.shape[2]]\n",
    "        yi = yi[: data.shape[0], : data.shape[1], : data.shape[2]]\n",
    "        zi = zi[: data.shape[0], : data.shape[1], : data.shape[2]]\n",
    "        grid = mlab.pipeline.scalar_field(xi, yi, zi, data)\n",
    "        vmin = np.min(data)\n",
    "        vmax = np.max(data)\n",
    "        mlab.pipeline.volume(grid, vmin=vmin, vmax=(vmax + vmin) / 2)\n",
    "        mlab.axes()\n",
    "        mlab.show()\n",
    "\n",
    "    @classmethod\n",
    "    def from_sdf(cls, sdf_file):\n",
    "\n",
    "        with open(sdf_file, \"r\") as file:\n",
    "            axis = 2\n",
    "            lines = file.readlines()\n",
    "            nx, ny, nz = map(int, lines[0].split(\" \"))\n",
    "            x0, y0, z0 = map(float, lines[1].split(\" \"))\n",
    "            delta = float(lines[2].strip())\n",
    "            data = np.zeros([nx, ny, nz])\n",
    "            for i, line in enumerate(lines[3:]):\n",
    "                idx = i % nx\n",
    "                idy = int(i / nx) % ny\n",
    "                idz = int(i / (nx * ny))\n",
    "                val = float(line.strip())\n",
    "                data[idx, idy, idz] = val\n",
    "        return cls(data, np.array([x0, y0, z0]), delta)\n"
   ]
  },
  {
   "cell_type": "code",
   "execution_count": 8,
   "id": "652b53f0",
   "metadata": {
    "pycharm": {
     "name": "#%%\n"
    }
   },
   "outputs": [],
   "source": [
    "def numerical_jacobian(f, x, eps=1):\n",
    "    \"\"\"\n",
    "    f (np.array) - (N x M x P) signed distance field\n",
    "    x (np.array) - (Q x 3) indexes\n",
    "\n",
    "    \"\"\"\n",
    "    z = f[x]\n",
    "    jacobian = []\n",
    "    delta = 0.0141 # grid spacing\n",
    "    \n",
    "    i_min = np.array([0, 0, 0], dtype=np.int)\n",
    "    i_max = np.array([f.shape[0] - 1, f.shape[1] - 1, f.shape[2] - 1], dtype=np.int) # index bounds\n",
    "    for i, data in enumerate(x):\n",
    "        for j in range(3): # iterate over x y z\n",
    "            x1 = data.copy()\n",
    "            x2 = data.copy()\n",
    "            \n",
    "            x1[j] = x1[j] + eps \n",
    "            x2[j] = x2[j] - eps\n",
    "\n",
    "            x1 = np.clip(x1, i_min, i_max) # clip if the shift is outside grid\n",
    "            x2 = np.clip(x2, i_min, i_max)\n",
    "\n",
    "            jacobian.append( (f[x1[0], x1[1], x1[2]] - f[x2[0], x2[1], x2[2]]) / (2*delta)) # central difference        return np.array(jacobian).T}\n",
    "    return np.array(jacobian)"
   ]
  },
  {
   "cell_type": "code",
   "execution_count": 13,
   "id": "e94031fb",
   "metadata": {
    "pycharm": {
     "name": "#%%\n"
    }
   },
   "outputs": [
    {
     "ename": "NameError",
     "evalue": "name 'idxes' is not defined",
     "output_type": "error",
     "traceback": [
      "\u001B[0;31m---------------------------------------------------------------------------\u001B[0m",
      "\u001B[0;31mNameError\u001B[0m                                 Traceback (most recent call last)",
      "\u001B[0;32m/tmp/ipykernel_25484/2655959361.py\u001B[0m in \u001B[0;36m<module>\u001B[0;34m\u001B[0m\n\u001B[0;32m----> 1\u001B[0;31m \u001B[0mjac\u001B[0m \u001B[0;34m=\u001B[0m \u001B[0mnumerical_jacobian\u001B[0m\u001B[0;34m(\u001B[0m\u001B[0mdata_sdf\u001B[0m\u001B[0;34m,\u001B[0m \u001B[0midxes\u001B[0m\u001B[0;34m)\u001B[0m\u001B[0;34m\u001B[0m\u001B[0;34m\u001B[0m\u001B[0m\n\u001B[0m",
      "\u001B[0;31mNameError\u001B[0m: name 'idxes' is not defined"
     ]
    }
   ],
   "source": [
    "jac = numerical_jacobian(data_sdf, idxes)"
   ]
  },
  {
   "cell_type": "code",
   "execution_count": 14,
   "id": "38de3693",
   "metadata": {
    "pycharm": {
     "name": "#%%\n"
    }
   },
   "outputs": [
    {
     "data": {
      "text/plain": [
       "0.014159"
      ]
     },
     "execution_count": 14,
     "metadata": {},
     "output_type": "execute_result"
    }
   ],
   "source": [
    "sdf.delta"
   ]
  },
  {
   "cell_type": "code",
   "execution_count": null,
   "id": "ed81adc0",
   "metadata": {
    "pycharm": {
     "name": "#%%\n"
    }
   },
   "outputs": [],
   "source": []
  },
  {
   "cell_type": "code",
   "execution_count": 7,
   "id": "604ae8a1",
   "metadata": {
    "pycharm": {
     "name": "#%%\n"
    }
   },
   "outputs": [],
   "source": [
    "sdf = SignedDensityField.from_sdf(\"./data/scenes/bookshelves/bookshelves_center_vgpmp.sdf\")"
   ]
  },
  {
   "cell_type": "code",
   "execution_count": 22,
   "id": "3cfce7a9",
   "metadata": {
    "pycharm": {
     "name": "#%%\n"
    }
   },
   "outputs": [
    {
     "data": {
      "text/plain": [
       "<tf.Tensor: shape=(1, 2), dtype=float64, numpy=array([[0.240753, 0.226594]])>"
      ]
     },
     "execution_count": 22,
     "metadata": {},
     "output_type": "execute_result"
    }
   ],
   "source": [
    "sdf.get_distance_tf(tf.constant([[[0.040000006556510925, -0.18799999356269836, 0.82850003242492676],\n",
    "  [0.22753074765205383, -0.1659148782491684, 0.81349998712539673]]], shape=(1,2,3), dtype=tf.float64))"
   ]
  },
  {
   "cell_type": "code",
   "execution_count": 23,
   "id": "4e5850a7",
   "metadata": {
    "pycharm": {
     "name": "#%%\n"
    }
   },
   "outputs": [
    {
     "data": {
      "text/plain": [
       "<tf.Tensor: shape=(1, 2, 3), dtype=float64, numpy=\n",
       "array([[[9.99999975e-05, 9.99999975e-05, 1.00000000e+00],\n",
       "        [9.99999975e-05, 9.99999975e-05, 1.00000000e+00]]])>"
      ]
     },
     "execution_count": 23,
     "metadata": {},
     "output_type": "execute_result"
    }
   ],
   "source": [
    "sdf.get_distance_grad_tf(tf.constant([[[0.040000006556510925, -0.18799999356269836, 0.82850003242492676],\n",
    "  [0.22753074765205383, -0.1659148782491684, 0.81349998712539673]]], shape=(1,2,3), dtype=tf.float64))"
   ]
  },
  {
   "cell_type": "code",
   "execution_count": 8,
   "id": "74469fa3",
   "metadata": {
    "pycharm": {
     "name": "#%%\n"
    }
   },
   "outputs": [
    {
     "data": {
      "text/plain": [
       "0.240753"
      ]
     },
     "execution_count": 8,
     "metadata": {},
     "output_type": "execute_result"
    }
   ],
   "source": [
    "sdf.get_distance(np.array([0.040000006556510925, -0.18799999356269836, 0.82850003242492676]))"
   ]
  },
  {
   "cell_type": "code",
   "execution_count": 38,
   "id": "f84497d0",
   "metadata": {
    "pycharm": {
     "name": "#%%\n"
    }
   },
   "outputs": [],
   "source": [
    "a = np.array([0.006, 0.12, 0.1557]) \n",
    "b = np.array([0.006, 0.12, -0.2351])"
   ]
  },
  {
   "cell_type": "code",
   "execution_count": 39,
   "id": "d6245fde",
   "metadata": {
    "pycharm": {
     "name": "#%%\n"
    }
   },
   "outputs": [
    {
     "data": {
      "text/plain": [
       "0.19540000000000002"
      ]
     },
     "execution_count": 39,
     "metadata": {},
     "output_type": "execute_result"
    }
   ],
   "source": [
    "np.sqrt(np.sum(np.square(a - b)))/2"
   ]
  },
  {
   "cell_type": "code",
   "execution_count": 43,
   "id": "3d8e7e09",
   "metadata": {
    "pycharm": {
     "name": "#%%\n"
    }
   },
   "outputs": [],
   "source": [
    "import matplotlib.pyplot as plt"
   ]
  },
  {
   "cell_type": "code",
   "execution_count": 70,
   "id": "3363b298",
   "metadata": {
    "pycharm": {
     "name": "#%%\n"
    }
   },
   "outputs": [
    {
     "name": "stderr",
     "output_type": "stream",
     "text": [
      "/tmp/ipykernel_25484/1122765564.py:3: MatplotlibDeprecationWarning: Axes3D(fig) adding itself to the figure is deprecated since 3.4. Pass the keyword argument auto_add_to_figure=False and use fig.add_axes(ax) to suppress this warning. The default value of auto_add_to_figure will change to False in mpl3.5 and True values will no longer work in 3.6.  This is consistent with other Axes classes.\n",
      "  ax = Axes3D(fig)\n"
     ]
    },
    {
     "data": {
      "text/plain": [
       "<mpl_toolkits.mplot3d.art3d.Path3DCollection at 0x7f05d00cef70>"
      ]
     },
     "execution_count": 70,
     "metadata": {},
     "output_type": "execute_result"
    },
    {
     "data": {
      "image/png": "[encoded data removed]",
      "text/plain": [
       "<Figure size 432x288 with 1 Axes>"
      ]
     },
     "metadata": {
      "needs_background": "light"
     },
     "output_type": "display_data"
    }
   ],
   "source": [
    "from mpl_toolkits.mplot3d import Axes3D\n",
    "fig = plt.figure()\n",
    "ax = Axes3D(fig)\n",
    "\n",
    "ax.scatter([a[0], b[0]], [a[1], b[1]], [a[2], b[2]], s=[20,20])"
   ]
  },
  {
   "cell_type": "code",
   "execution_count": 76,
   "id": "95d9586e",
   "metadata": {
    "pycharm": {
     "name": "#%%\n"
    }
   },
   "outputs": [],
   "source": [
    "init_pos = np.array([0.7477411031723022, -0.19763639569282532, 1.0829706192016602])\n",
    "normalized_pos = init_pos - np.array([0.95, 0, 0.84])"
   ]
  },
  {
   "cell_type": "code",
   "execution_count": 77,
   "id": "c164272e",
   "metadata": {
    "pycharm": {
     "name": "#%%\n"
    }
   },
   "outputs": [
    {
     "data": {
      "text/plain": [
       "array([-0.2022589 , -0.1976364 ,  0.24297062])"
      ]
     },
     "execution_count": 77,
     "metadata": {},
     "output_type": "execute_result"
    }
   ],
   "source": [
    "normalized_pos"
   ]
  },
  {
   "cell_type": "code",
   "execution_count": 78,
   "id": "6e63bf81",
   "metadata": {
    "pycharm": {
     "name": "#%%\n"
    }
   },
   "outputs": [
    {
     "data": {
      "text/plain": [
       "0.058082"
      ]
     },
     "execution_count": 78,
     "metadata": {},
     "output_type": "execute_result"
    }
   ],
   "source": [
    "sdf.get_distance(normalized_pos)"
   ]
  },
  {
   "cell_type": "code",
   "execution_count": 291,
   "id": "4f103480",
   "metadata": {
    "pycharm": {
     "name": "#%%\n"
    }
   },
   "outputs": [],
   "source": [
    "rel_pos = np.array([[0.040000002831220627, -0.18799999356269836, 0.88367557525634766],\n",
    " [0.21419146656990051, -0.24196107685565948, 0.8686755895614624],\n",
    " [0.2941914498806, -0.24196107685565948, 0.848675549030304],\n",
    " [0.36169144511222839, -0.24196107685565948, 0.848675549030304],\n",
    " [0.43419146537780762, -0.24196107685565948, 0.88367557525634766],\n",
    " [0.49837920069694519, -0.45615303516387939, 0.9380754828453064],\n",
    " [0.56837922334671021, -0.43115302920341492, 0.92307549715042114],\n",
    " [0.56837922334671021, -0.48115304112434387, 0.92307549715042114],\n",
    " [0.63337922096252441, -0.42865303158760071, 0.91807550191879272],\n",
    " [0.63337922096252441, -0.48365303874015808, 0.91807550191879272],\n",
    " [0.688379168510437, -0.43365302681922913, 0.92807549238204956],\n",
    " [0.688379168510437, -0.47865304350852966, 0.92807549238204956],\n",
    " [0.7395363450050354, -0.38620972633361816, 1.0118066072463989],\n",
    " [0.7395363450050354, -0.35120970010757446, 1.0118066072463989],\n",
    " [0.75953638553619385, -0.36870971322059631, 1.0118066072463989],\n",
    " [0.75942438840866089, -0.31268727779388428, 0.97774076461791992],\n",
    " [0.80942440032958984, -0.3201872706413269, 0.97774076461791992],\n",
    " [0.80077236890792847, -0.27069541811943054, 0.98162108659744263],\n",
    " [0.82077240943908691, -0.27069541811943054, 0.98162108659744263],\n",
    " [0.758026123046875, -0.37897482514381409, 0.96621853113174438],\n",
    " [0.808026134967804, -0.37147483229637146, 0.96621853113174438],\n",
    " [0.81593763828277588, -0.32604098320007324, 0.91591012477874756],\n",
    " [0.83593767881393433, -0.32604098320007324, 0.91591012477874756]])"
   ]
  },
  {
   "cell_type": "code",
   "execution_count": 292,
   "id": "6de632f2",
   "metadata": {
    "pycharm": {
     "name": "#%%\n"
    }
   },
   "outputs": [],
   "source": [
    "idxes = sdf._rel_pos_to_idxes(rel_pos)"
   ]
  },
  {
   "cell_type": "code",
   "execution_count": 293,
   "id": "699263ba",
   "metadata": {
    "pycharm": {
     "name": "#%%\n"
    }
   },
   "outputs": [
    {
     "name": "stdout",
     "output_type": "stream",
     "text": [
      "[-0.74960993 -0.77510638 -1.29609929 -1.33638298 -1.34588652 -1.28996454\n",
      " -1.41064184 -1.41064184 -1.28467021 -1.28467021 -1.         -1.\n",
      "  0.07801879  0.07801879  0.07801667 -0.99999787 -1.         -1.\n",
      " -0.99999787 -1.00000355 -1.         -1.00000355 -1.00000355]\n"
     ]
    },
    {
     "data": {
      "text/plain": [
       "array([[-4.81666667e-01,  0.00000000e+00, -2.63900709e-01],\n",
       "       [-4.77234043e-01,  0.00000000e+00, -2.93439716e-01],\n",
       "       [-9.30709220e-01,  0.00000000e+00, -3.65390071e-01],\n",
       "       [-8.99113475e-01,  0.00000000e+00, -4.37021277e-01],\n",
       "       [-8.89361702e-01,  0.00000000e+00, -4.56099291e-01],\n",
       "       [-9.33439716e-01,  0.00000000e+00, -3.56524823e-01],\n",
       "       [-7.52340426e-01,  0.00000000e+00, -6.52872340e-01],\n",
       "       [-8.56319149e-01,  5.08709220e-01,  0.00000000e+00],\n",
       "       [-3.53290780e-01,  0.00000000e+00, -9.31670213e-01],\n",
       "       [-4.76730496e-01,  8.66709220e-01,  0.00000000e+00],\n",
       "       [ 0.00000000e+00,  0.00000000e+00, -1.00000000e+00],\n",
       "       [ 0.00000000e+00,  1.00000000e+00,  0.00000000e+00],\n",
       "       [ 0.00000000e+00,  0.00000000e+00,  7.80166667e-02],\n",
       "       [ 0.00000000e+00,  0.00000000e+00,  7.80166667e-02],\n",
       "       [ 0.00000000e+00,  0.00000000e+00,  7.80209220e-02],\n",
       "       [ 0.00000000e+00,  0.00000000e+00, -1.00000000e+00],\n",
       "       [ 0.00000000e+00,  0.00000000e+00, -1.00000000e+00],\n",
       "       [ 3.54609929e-06,  0.00000000e+00, -1.00000000e+00],\n",
       "       [ 0.00000000e+00,  0.00000000e+00, -1.00000213e+00],\n",
       "       [-3.54609929e-06,  0.00000000e+00, -1.00000000e+00],\n",
       "       [ 0.00000000e+00,  0.00000000e+00, -1.00000000e+00],\n",
       "       [-3.54609929e-06,  0.00000000e+00, -1.00000355e+00],\n",
       "       [ 3.54609929e-06,  0.00000000e+00, -1.00000355e+00]])"
      ]
     },
     "execution_count": 293,
     "metadata": {},
     "output_type": "execute_result"
    }
   ],
   "source": [
    "sdf.get_distance_grad(rel_pos)"
   ]
  },
  {
   "cell_type": "code",
   "execution_count": 302,
   "id": "8399addf",
   "metadata": {
    "pycharm": {
     "name": "#%%\n"
    }
   },
   "outputs": [
    {
     "data": {
      "text/plain": [
       "array([[-4.81666667e-01,  0.00000000e+00, -2.63900709e-01],\n",
       "       [-4.77234043e-01,  0.00000000e+00, -2.93439716e-01],\n",
       "       [-9.30709220e-01,  0.00000000e+00, -3.65390071e-01],\n",
       "       [-8.99113475e-01,  0.00000000e+00, -4.37021277e-01],\n",
       "       [-8.89361702e-01,  0.00000000e+00, -4.56099291e-01],\n",
       "       [-9.33439716e-01,  0.00000000e+00, -3.56524823e-01],\n",
       "       [-7.52340426e-01,  0.00000000e+00, -6.52872340e-01],\n",
       "       [-8.56319149e-01,  5.08709220e-01,  0.00000000e+00],\n",
       "       [-3.53290780e-01,  0.00000000e+00, -9.31670213e-01],\n",
       "       [-4.76730496e-01,  8.66709220e-01,  0.00000000e+00],\n",
       "       [ 0.00000000e+00,  0.00000000e+00, -1.00000000e+00],\n",
       "       [ 0.00000000e+00,  1.00000000e+00,  0.00000000e+00],\n",
       "       [ 0.00000000e+00,  0.00000000e+00,  7.80166667e-02],\n",
       "       [ 0.00000000e+00,  0.00000000e+00,  7.80166667e-02],\n",
       "       [ 0.00000000e+00,  0.00000000e+00,  7.80209220e-02],\n",
       "       [ 0.00000000e+00,  0.00000000e+00, -1.00000000e+00],\n",
       "       [ 0.00000000e+00,  0.00000000e+00, -1.00000000e+00],\n",
       "       [ 3.54609929e-06,  0.00000000e+00, -1.00000000e+00],\n",
       "       [ 0.00000000e+00,  0.00000000e+00, -1.00000213e+00],\n",
       "       [-3.54609929e-06,  0.00000000e+00, -1.00000000e+00],\n",
       "       [ 0.00000000e+00,  0.00000000e+00, -1.00000000e+00],\n",
       "       [-3.54609929e-06,  0.00000000e+00, -1.00000355e+00],\n",
       "       [ 3.54609929e-06,  0.00000000e+00, -1.00000355e+00]])"
      ]
     },
     "execution_count": 302,
     "metadata": {},
     "output_type": "execute_result"
    }
   ],
   "source": [
    "jac.reshape((rel_pos.shape[0], rel_pos.shape[1]))"
   ]
  },
  {
   "cell_type": "code",
   "execution_count": 113,
   "id": "e09d4990",
   "metadata": {
    "pycharm": {
     "name": "#%%\n"
    }
   },
   "outputs": [
    {
     "name": "stdout",
     "output_type": "stream",
     "text": [
      "[ 0 56 92]\n",
      "*******************************************************\n",
      "0.438564\n",
      "********************************************************\n",
      "0.438564\n",
      "********************************************************\n",
      "-0.4816666666666671\n"
     ]
    },
    {
     "data": {
      "text/plain": [
       "array([-0.48166667,  0.        , -0.26390071])"
      ]
     },
     "execution_count": 113,
     "metadata": {},
     "output_type": "execute_result"
    }
   ],
   "source": [
    "sdf.get_distance_grad([-0.05000000074505806, -0.18800000846385956, 0.8825435638427734])"
   ]
  },
  {
   "cell_type": "code",
   "execution_count": 129,
   "id": "4deda6c4",
   "metadata": {
    "pycharm": {
     "name": "#%%\n"
    }
   },
   "outputs": [
    {
     "data": {
      "text/plain": [
       "0.423511"
      ]
     },
     "execution_count": 129,
     "metadata": {},
     "output_type": "execute_result"
    }
   ],
   "source": [
    "sdf.get_distance(np.array([-0.0888950452208519, -0.4211570918560028, 0.1745808720588684]))"
   ]
  },
  {
   "cell_type": "code",
   "execution_count": 127,
   "id": "e773b519",
   "metadata": {
    "pycharm": {
     "name": "#%%\n"
    }
   },
   "outputs": [
    {
     "data": {
      "text/plain": [
       "0.461007"
      ]
     },
     "execution_count": 127,
     "metadata": {},
     "output_type": "execute_result"
    }
   ],
   "source": [
    "sdf.get_distance(np.array([-0.5269055962562561, -0.7377077341079712, 1.1453197002410889]))"
   ]
  },
  {
   "cell_type": "code",
   "execution_count": 128,
   "id": "1bd934c1",
   "metadata": {
    "pycharm": {
     "name": "#%%\n"
    }
   },
   "outputs": [
    {
     "name": "stdout",
     "output_type": "stream",
     "text": [
      "[  0  17 111]\n",
      "*******************************************************\n",
      "0.461007\n",
      "********************************************************\n",
      "0.448105\n",
      "0.461007\n",
      "********************************************************\n",
      "-0.4575177304964548\n"
     ]
    },
    {
     "data": {
      "text/plain": [
       "array([-0.45751773, -0.39744681,  0.        ])"
      ]
     },
     "execution_count": 128,
     "metadata": {},
     "output_type": "execute_result"
    }
   ],
   "source": [
    "sdf.get_distance_grad([-0.5269055962562561, -0.7377077341079712, 1.1453197002410889])"
   ]
  },
  {
   "cell_type": "code",
   "execution_count": 346,
   "id": "64e51591",
   "metadata": {
    "pycharm": {
     "name": "#%%\n"
    }
   },
   "outputs": [
    {
     "data": {
      "text/plain": [
       "0.423"
      ]
     },
     "execution_count": 346,
     "metadata": {},
     "output_type": "execute_result"
    }
   ],
   "source": [
    "sdf.get_distance(np.array([0.95, 0, 1]))"
   ]
  },
  {
   "cell_type": "code",
   "execution_count": 342,
   "id": "b288e66b",
   "metadata": {
    "pycharm": {
     "name": "#%%\n"
    }
   },
   "outputs": [
    {
     "data": {
      "text/plain": [
       "array([0.723, 0.983, 1.423])"
      ]
     },
     "execution_count": 342,
     "metadata": {},
     "output_type": "execute_result"
    }
   ],
   "source": [
    "np.array([0.95, 0, 1]) - sdf.origin"
   ]
  },
  {
   "cell_type": "code",
   "execution_count": 148,
   "id": "03dabc7a",
   "metadata": {
    "pycharm": {
     "name": "#%%\n"
    }
   },
   "outputs": [
    {
     "data": {
      "text/plain": [
       "0.463712"
      ]
     },
     "execution_count": 148,
     "metadata": {},
     "output_type": "execute_result"
    }
   ],
   "source": [
    "sdf.get_distance(np.array([0, 0, 0]))"
   ]
  },
  {
   "cell_type": "code",
   "execution_count": 331,
   "id": "891e6172",
   "metadata": {
    "pycharm": {
     "name": "#%%\n"
    }
   },
   "outputs": [],
   "source": [
    "import pybullet as p\n",
    "gravity_constant = -9.81\n",
    "\n",
    "physicsClient = p.connect(p.DIRECT)\n",
    "\n",
    "p.resetSimulation()\n",
    "p.setGravity(0, 0, gravity_constant)"
   ]
  },
  {
   "cell_type": "code",
   "execution_count": 336,
   "id": "9da09444",
   "metadata": {
    "pycharm": {
     "name": "#%%\n"
    }
   },
   "outputs": [],
   "source": [
    "shelfStartPos = [0,0,1]\n",
    "shelfStartOrientation = p.getQuaternionFromEuler([0,0,0])\n",
    "bookshelf = p.loadURDF('/data/scenes/bookshelves/bookshelves_mesh.urdf')"
   ]
  },
  {
   "cell_type": "code",
   "execution_count": 337,
   "id": "521d765c",
   "metadata": {
    "pycharm": {
     "name": "#%%\n"
    }
   },
   "outputs": [],
   "source": [
    "pos, ori = p.getBasePositionAndOrientation(bookshelf)"
   ]
  },
  {
   "cell_type": "code",
   "execution_count": 338,
   "id": "887d517d",
   "metadata": {
    "pycharm": {
     "name": "#%%\n"
    }
   },
   "outputs": [
    {
     "data": {
      "text/plain": [
       "(0.0, 0.0, 0.0)"
      ]
     },
     "execution_count": 338,
     "metadata": {},
     "output_type": "execute_result"
    }
   ],
   "source": [
    "pos"
   ]
  },
  {
   "cell_type": "code",
   "execution_count": 335,
   "id": "f925efc3",
   "metadata": {
    "pycharm": {
     "name": "#%%\n"
    }
   },
   "outputs": [
    {
     "data": {
      "text/plain": [
       "(0.0, 0.0, 1.0)"
      ]
     },
     "execution_count": 335,
     "metadata": {},
     "output_type": "execute_result"
    }
   ],
   "source": [
    "for link in range(len(link_idxes)):\n",
    "        link_frame = np.array(pre[link][0])\n",
    "        xyz = list(link_frame)\n",
    "        dx = list(link_frame + np.array([.1, 0, 0]))\n",
    "        dy = list(link_frame + np.array([0, .1, 0]))\n",
    "        dz = list(link_frame + np.array([0, 0, .1]))\n",
    "        p.addUserDebugLine([0,0,0],[.4,0,0],[255, 0, 0], parentObjectUniqueId=right_arm.robot_model, lineWidth=3, parentLinkIndex=link_idxes[link])\n",
    "        p.addUserDebugLine([0,0,0],[0,.4,0],[0, 0, 255], parentObjectUniqueId=right_arm.robot_model, lineWidth=3, parentLinkIndex=link_idxes[link])"
   ]
  },
  {
   "cell_type": "code",
   "execution_count": 169,
   "id": "b0d27053",
   "metadata": {
    "pycharm": {
     "name": "#%%\n"
    }
   },
   "outputs": [],
   "source": [
    "bookshelf = p.createVisualShape(shapeType=p.GEOM_MESH, fileName=\"/data/scenes/bookshelves/bookshelves.obj\")"
   ]
  },
  {
   "cell_type": "code",
   "execution_count": 178,
   "id": "e058c91d",
   "metadata": {
    "pycharm": {
     "name": "#%%\n"
    }
   },
   "outputs": [
    {
     "ename": "error",
     "evalue": "Not connected to physics server.",
     "output_type": "error",
     "traceback": [
      "\u001B[0;31m---------------------------------------------------------------------------\u001B[0m",
      "\u001B[0;31merror\u001B[0m                                     Traceback (most recent call last)",
      "\u001B[0;32m/tmp/ipykernel_191352/3863953694.py\u001B[0m in \u001B[0;36m<module>\u001B[0;34m\u001B[0m\n\u001B[0;32m----> 1\u001B[0;31m \u001B[0mp\u001B[0m\u001B[0;34m.\u001B[0m\u001B[0mgetNumBodies\u001B[0m\u001B[0;34m(\u001B[0m\u001B[0mbookshelf\u001B[0m\u001B[0;34m)\u001B[0m\u001B[0;34m\u001B[0m\u001B[0;34m\u001B[0m\u001B[0m\n\u001B[0m",
      "\u001B[0;31merror\u001B[0m: Not connected to physics server."
     ]
    }
   ],
   "source": [
    "p.getNumBodies(bookshelf)"
   ]
  },
  {
   "cell_type": "code",
   "execution_count": 24,
   "id": "59777481",
   "metadata": {
    "pycharm": {
     "name": "#%%\n"
    }
   },
   "outputs": [],
   "source": [
    "something = tf.convert_to_tensor(\n",
    "[[0.00030454176657745757, 0.00016893364355180496, -0.0001824697618412128],\n",
    " [0.00032812052355283129, 0.00023411208346913693, -0.00025289075840384789],\n",
    " [0.00032560681576079359, 0.00027115122952005446, -0.00029292748152953446],\n",
    " [0.0003099256982990591, 0.0003099256982990591, -0.00033483640291702714]])"
   ]
  },
  {
   "cell_type": "code",
   "execution_count": 26,
   "id": "5dfc0065",
   "metadata": {
    "pycharm": {
     "name": "#%%\n"
    }
   },
   "outputs": [
    {
     "data": {
      "text/plain": [
       "<tf.Tensor: shape=(4,), dtype=float32, numpy=array([0.00030454, 0.00032812, 0.00032561, 0.00030993], dtype=float32)>"
      ]
     },
     "execution_count": 26,
     "metadata": {},
     "output_type": "execute_result"
    }
   ],
   "source": [
    "something[..., 0]"
   ]
  },
  {
   "cell_type": "code",
   "execution_count": 25,
   "id": "ecdf7b6d",
   "metadata": {
    "pycharm": {
     "name": "#%%\n"
    }
   },
   "outputs": [
    {
     "data": {
      "text/plain": [
       "<tf.Tensor: shape=(3,), dtype=float32, numpy=array([ 0.00126819,  0.00098412, -0.00106312], dtype=float32)>"
      ]
     },
     "execution_count": 25,
     "metadata": {},
     "output_type": "execute_result"
    }
   ],
   "source": [
    "tf.reduce_sum(something, axis=0)"
   ]
  },
  {
   "cell_type": "code",
   "execution_count": 20,
   "id": "2979a235",
   "metadata": {
    "pycharm": {
     "name": "#%%\n"
    }
   },
   "outputs": [
    {
     "data": {
      "text/plain": [
       "<tf.Tensor: shape=(4, 4, 4), dtype=float64, numpy=\n",
       "array([[[-3.20510345e-09,  3.67320510e-06, -1.00000000e+00,\n",
       "         -3.20510345e-10],\n",
       "        [ 1.00000000e+00,  1.17730024e-14, -3.20510345e-09,\n",
       "          1.00000000e-01],\n",
       "        [ 0.00000000e+00, -1.00000000e+00, -3.67320510e-06,\n",
       "          0.00000000e+00],\n",
       "        [ 0.00000000e+00,  0.00000000e+00,  0.00000000e+00,\n",
       "          1.00000000e+00]],\n",
       "\n",
       "       [[-1.00000000e+00, -1.35042087e-11, -3.67641021e-06,\n",
       "          0.00000000e+00],\n",
       "        [-3.67641021e-06,  3.67320510e-06,  1.00000000e+00,\n",
       "          0.00000000e+00],\n",
       "        [ 0.00000000e+00,  1.00000000e+00, -3.67320510e-06,\n",
       "          0.00000000e+00],\n",
       "        [ 0.00000000e+00,  0.00000000e+00,  0.00000000e+00,\n",
       "          1.00000000e+00]],\n",
       "\n",
       "       [[ 1.00000000e+00,  0.00000000e+00,  0.00000000e+00,\n",
       "          4.00000000e-01],\n",
       "        [ 0.00000000e+00, -3.67320510e-06,  1.00000000e+00,\n",
       "          0.00000000e+00],\n",
       "        [ 0.00000000e+00, -1.00000000e+00, -3.67320510e-06,\n",
       "          0.00000000e+00],\n",
       "        [ 0.00000000e+00,  0.00000000e+00,  0.00000000e+00,\n",
       "          1.00000000e+00]],\n",
       "\n",
       "       [[-4.99999998e-01,  3.18108894e-06,  8.66025405e-01,\n",
       "          0.00000000e+00],\n",
       "        [ 8.66025405e-01,  1.83660254e-06,  4.99999998e-01,\n",
       "          0.00000000e+00],\n",
       "        [ 0.00000000e+00,  1.00000000e+00, -3.67320510e-06,\n",
       "          0.00000000e+00],\n",
       "        [ 0.00000000e+00,  0.00000000e+00,  0.00000000e+00,\n",
       "          1.00000000e+00]]])>"
      ]
     },
     "execution_count": 20,
     "metadata": {},
     "output_type": "execute_result"
    }
   ],
   "source": [
    "b[tf.gather_nd(some_list_tf, [1, 0]):tf.gather_nd(some_list_tf, [1, 1])]"
   ]
  },
  {
   "cell_type": "code",
   "execution_count": 14,
   "id": "09a71e5a",
   "metadata": {
    "pycharm": {
     "name": "#%%\n"
    }
   },
   "outputs": [],
   "source": [
    "a = np.array([[[1, 0, 0, -0.05000000074505806],\n",
    "              [0, 1, 0, -0.18800000846385956],\n",
    "              [0, 0, 1, 0.88310247659683228],\n",
    "              [0, 0, 0, 1]],\n",
    "             [[-3.205103454691839e-09, 3.6732051033465739e-06, -0.99999999999325373, -3.2051034546918393e-10],\n",
    "  [1 ,1.1773002366527798e-14, -3.2051034546702165e-09, 0.1],\n",
    "  [0, -0.99999999999325373, -3.6732051033465739e-06, 0],\n",
    "  [0, 0, 0, 1]],\n",
    "             [[-0.999999999993242, -1.3504208733617762e-11, -3.6764102067764421e-06, -0],\n",
    "  [-3.6764102068012441e-06, 3.6732051033217504e-06, 0.99999999998649569, -0],\n",
    "  [0, 0.99999999999325373, -3.6732051033465739e-06, 0],\n",
    "  [0, 0, 0, 1]],\n",
    "             [[1, 0, -0, 0.4],\n",
    "  [0, -3.6732051033465739e-06, 0.99999999999325373, 0],\n",
    "  [0, -0.99999999999325373, -3.6732051033465739e-06, 0],\n",
    "  [0, 0, 0, 1]],\n",
    "             [[-0.49999999792743177, 3.1810889372041264e-06, 0.866025404975194, -0],\n",
    "  [0.86602540498103642, 1.8366025440603187e-06, 0.49999999792405864, 0],\n",
    "  [0, 0.99999999999325373, -3.6732051033465739e-06, 0],\n",
    "  [0, 0, 0, 1]],\n",
    "             [[0.98480775217859828, 6.3784538975857652e-07, -0.17364818239339452, 0.31612328844933008],\n",
    "  [0.173648182394566, -3.6174008611176952e-06, 0.98480775217195449, 0.055741066548655689],\n",
    "  [0, -0.99999999999325373, -3.6732051033465739e-06, 0],\n",
    "  [0, 0, 0, 1]],\n",
    "             [[0.96592582571944618, 9.5069544512258034e-07, 0.25881904722663313, 0],\n",
    "  [0.25881904722837917, -3.548043672486923e-06, -0.96592582571292984, 0],\n",
    "  [0, 0.99999999999325373, -3.6732051033465739e-06, 0],\n",
    "  [0, 0, 0, 1]],\n",
    "             [[0.98480775217859828, 0.173648182394566, -0, 0],\n",
    "  [-0.173648182394566, 0.98480775217859828, -0, -0],\n",
    "  [0, 0, 1, 0],\n",
    "  [0, 0, 0, 1]]])"
   ]
  },
  {
   "cell_type": "code",
   "execution_count": 15,
   "id": "ce75980d",
   "metadata": {
    "pycharm": {
     "name": "#%%\n"
    }
   },
   "outputs": [],
   "source": [
    "b = tf.convert_to_tensor(a)"
   ]
  },
  {
   "cell_type": "code",
   "execution_count": 43,
   "id": "4e4caee4",
   "metadata": {
    "pycharm": {
     "name": "#%%\n"
    }
   },
   "outputs": [
    {
     "data": {
      "text/plain": [
       "<tf.Tensor: shape=(8, 4, 4), dtype=float64, numpy=\n",
       "array([[[ 1.00000000e+00,  0.00000000e+00,  0.00000000e+00,\n",
       "         -5.00000007e-02],\n",
       "        [ 0.00000000e+00,  1.00000000e+00,  0.00000000e+00,\n",
       "         -1.88000008e-01],\n",
       "        [ 0.00000000e+00,  0.00000000e+00,  1.00000000e+00,\n",
       "          8.83102477e-01],\n",
       "        [ 0.00000000e+00,  0.00000000e+00,  0.00000000e+00,\n",
       "          1.00000000e+00]],\n",
       "\n",
       "       [[-3.20510345e-09,  3.67320510e-06, -1.00000000e+00,\n",
       "         -5.00000011e-02],\n",
       "        [ 1.00000000e+00,  1.17730024e-14, -3.20510345e-09,\n",
       "         -8.80000085e-02],\n",
       "        [ 0.00000000e+00, -1.00000000e+00, -3.67320510e-06,\n",
       "          8.83102477e-01],\n",
       "        [ 0.00000000e+00,  0.00000000e+00,  0.00000000e+00,\n",
       "          1.00000000e+00]],\n",
       "\n",
       "       [[ 3.19159925e-09, -1.00000000e+00,  7.34641022e-06,\n",
       "         -5.00000011e-02],\n",
       "        [-1.00000000e+00, -3.21860766e-09, -3.67641018e-06,\n",
       "         -8.80000085e-02],\n",
       "        [ 3.67641021e-06, -7.34641021e-06, -1.00000000e+00,\n",
       "          8.83102477e-01],\n",
       "        [ 0.00000000e+00,  0.00000000e+00,  0.00000000e+00,\n",
       "          1.00000000e+00]],\n",
       "\n",
       "       [[ 3.19159925e-09, -3.67320512e-06, -1.00000000e+00,\n",
       "         -4.99999998e-02],\n",
       "        [-1.00000000e+00,  3.67641020e-06, -3.20510345e-09,\n",
       "         -4.88000008e-01],\n",
       "        [ 3.67641021e-06,  1.00000000e+00, -3.67320510e-06,\n",
       "          8.83103947e-01],\n",
       "        [ 0.00000000e+00,  0.00000000e+00,  0.00000000e+00,\n",
       "          1.00000000e+00]],\n",
       "\n",
       "       [[-3.18268475e-06, -1.00000000e+00,  1.83936656e-06,\n",
       "         -4.99999998e-02],\n",
       "        [ 5.00003182e-01, -3.18428729e-06, -8.66023567e-01,\n",
       "         -4.88000008e-01],\n",
       "        [ 8.66023567e-01, -1.83659086e-06,  5.00003182e-01,\n",
       "          8.83103947e-01],\n",
       "        [ 0.00000000e+00,  0.00000000e+00,  0.00000000e+00,\n",
       "          1.00000000e+00]],\n",
       "\n",
       "       [[-1.73651317e-01,  1.77803227e-06, -9.84807200e-01,\n",
       "         -1.05742072e-01],\n",
       "        [ 4.92406457e-01,  8.66023886e-01, -8.68245985e-02,\n",
       "         -3.29937536e-01],\n",
       "        [ 8.52866403e-01, -5.00002629e-01, -1.50387064e-01,\n",
       "          1.15687406e+00],\n",
       "        [ 0.00000000e+00,  0.00000000e+00,  0.00000000e+00,\n",
       "          1.00000000e+00]],\n",
       "\n",
       "       [[-1.67733831e-01, -9.84807365e-01, -4.49423684e-02,\n",
       "         -1.05742072e-01],\n",
       "        [ 6.99771590e-01, -8.68272031e-02, -7.09070348e-01,\n",
       "         -3.29937536e-01],\n",
       "        [ 6.94395481e-01, -1.50384479e-01,  7.03704075e-01,\n",
       "          1.15687406e+00],\n",
       "        [ 0.00000000e+00,  0.00000000e+00,  0.00000000e+00,\n",
       "          1.00000000e+00]],\n",
       "\n",
       "       [[ 5.82443150e-03, -9.98972602e-01, -4.49423684e-02,\n",
       "         -1.05742072e-01],\n",
       "        [ 7.04217873e-01,  3.60059620e-02, -7.09070348e-01,\n",
       "         -3.29937536e-01],\n",
       "        [ 7.09960044e-01, -2.75192874e-02,  7.03704075e-01,\n",
       "          1.15687406e+00],\n",
       "        [ 0.00000000e+00,  0.00000000e+00,  0.00000000e+00,\n",
       "          1.00000000e+00]]])>"
      ]
     },
     "execution_count": 43,
     "metadata": {},
     "output_type": "execute_result"
    }
   ],
   "source": [
    "from pprint import pprint\n",
    "tf.scan(tf.matmul, b)"
   ]
  },
  {
   "cell_type": "code",
   "execution_count": 228,
   "id": "897de469",
   "metadata": {
    "pycharm": {
     "name": "#%%\n"
    }
   },
   "outputs": [],
   "source": [
    "b = tf.convert_to_tensor(np.random.random((3, 7, 3)))"
   ]
  },
  {
   "cell_type": "code",
   "execution_count": 48,
   "id": "bfe6b42a",
   "metadata": {
    "pycharm": {
     "name": "#%%\n"
    }
   },
   "outputs": [],
   "source": [
    "a = np.array([[0.049207091459601879, 0.93924747050682911, 0.33969523296126669, 0.55231510063274669],\n",
    "  [0.98649177961640333, -0.098908633328852955, 0.13057967300571624, 0.024913790380588843],\n",
    "  [0.15624541881075318, 0.32868110897881148, -0.93142691484684437, 0.60398618365724877],\n",
    "  [0, 0, 0, 1]])\n",
    "b = np.array([[-0.7495600173325303, 0.56812580395529244, 0.33969523296126669, 0.55231510063274669],\n",
    "  [0.63578066098463293, 0.76074430666003889, 0.13057967300571624, 0.024913790380588843],\n",
    "  [-0.18423553276824742, 0.31384896170688387, -0.93142691484684437, 0.60398618365724877],\n",
    "  [0, 0, 0, 1]])"
   ]
  },
  {
   "cell_type": "code",
   "execution_count": 50,
   "id": "9c788d24",
   "metadata": {
    "pycharm": {
     "name": "#%%\n"
    }
   },
   "outputs": [
    {
     "data": {
      "text/plain": [
       "array([[ 5.61522769e-01,  8.27461286e-01, -1.11022302e-16,\n",
       "         1.46125143e-01],\n",
       "       [-8.27461286e-01,  5.61522769e-01,  1.11022302e-16,\n",
       "         7.14815221e-01],\n",
       "       [-1.11022302e-16,  0.00000000e+00,  1.00000000e+00,\n",
       "        -3.71696946e-01],\n",
       "       [-5.09429327e-01,  5.22297921e-01, -3.71696946e-01,\n",
       "         1.67047198e+00]])"
      ]
     },
     "execution_count": 50,
     "metadata": {},
     "output_type": "execute_result"
    }
   ],
   "source": [
    "np.matmul(a.T, b)"
   ]
  },
  {
   "cell_type": "code",
   "execution_count": 60,
   "id": "9967b482",
   "metadata": {
    "pycharm": {
     "name": "#%%\n"
    }
   },
   "outputs": [],
   "source": [
    "d = np.array(\n",
    " [[[ 8.67819180e-01,  1.82514266e-06,  4.96880138e-01,  0.00000000e+00],\n",
    " [ 4.96880138e-01, -3.18767784e-06, -8.67819180e-01 , 0.00000000e+00],\n",
    " [ 0.00000000e+00,  1.00000000e+00, -3.67320510e-06 , 0.00000000e+00],\n",
    " [ 0.00000000e+00,  0.00000000e+00,  0.00000000e+00 , 1.00000000e+00]]])\n",
    "\n",
    "c = np.array(\n",
    "[[[-1.73651650e-01 ,-1.10288164e-06 ,-9.84807141e-01 ,-4.99960056e-02],\n",
    " [-2.79903712e-01 , 9.58758595e-01,  4.93545202e-02 ,-1.05552740e-01],\n",
    " [ 9.44192256e-01 , 2.84221668e-01, -1.66490320e-01,  5.16677349e-01],\n",
    " [ 0.00000000e+00 , 0.00000000e+00,  0.00000000e+00 , 1.00000000e+00]]])"
   ]
  },
  {
   "cell_type": "code",
   "execution_count": 61,
   "id": "8f701f0d",
   "metadata": {
    "pycharm": {
     "name": "#%%\n"
    }
   },
   "outputs": [
    {
     "data": {
      "text/plain": [
       "array([[[-0.15069878, -0.98480746, -0.08627948, -0.04999601],\n",
       "        [ 0.23348229,  0.04935095, -0.97110787, -0.10555274],\n",
       "        [ 0.96061225, -0.1664895 ,  0.22249798,  0.51667735],\n",
       "        [ 0.        ,  0.        ,  0.        ,  1.        ]]])"
      ]
     },
     "execution_count": 61,
     "metadata": {},
     "output_type": "execute_result"
    }
   ],
   "source": [
    "c @ d"
   ]
  },
  {
   "cell_type": "code",
   "execution_count": 64,
   "id": "00a2666f",
   "metadata": {
    "pycharm": {
     "name": "#%%\n"
    }
   },
   "outputs": [
    {
     "data": {
      "text/plain": [
       "array([[[-0.89969207, -0.27990439,  0.33497419, -0.55014154],\n",
       "        [-0.17315419,  0.93324598,  0.31475319, -0.16725791],\n",
       "        [-0.40071411,  0.22517877, -0.88810063,  0.35344935],\n",
       "        [ 0.        ,  0.        ,  0.        ,  1.        ]]])"
      ]
     },
     "execution_count": 64,
     "metadata": {},
     "output_type": "execute_result"
    }
   ],
   "source": [
    "c @ c"
   ]
  },
  {
   "cell_type": "code",
   "execution_count": 65,
   "id": "6869e7e5",
   "metadata": {
    "pycharm": {
     "name": "#%%\n"
    }
   },
   "outputs": [],
   "source": [
    "e = np.array([[1, 0, 0, -0.05000000074505806],\n",
    "  [0, 1, 0, -0.18800000846385956],\n",
    "  [0, 0, 1, 0.88310247659683228],\n",
    "  [0 ,0, 0, 1]])"
   ]
  },
  {
   "cell_type": "code",
   "execution_count": 69,
   "id": "5c741ef7",
   "metadata": {
    "pycharm": {
     "name": "#%%\n"
    }
   },
   "outputs": [],
   "source": [
    "cd = tf.concat([c, d], 0)"
   ]
  },
  {
   "cell_type": "code",
   "execution_count": 70,
   "id": "94bc128a",
   "metadata": {
    "pycharm": {
     "name": "#%%\n"
    }
   },
   "outputs": [
    {
     "data": {
      "text/plain": [
       "TensorShape([2, 4, 4])"
      ]
     },
     "execution_count": 70,
     "metadata": {},
     "output_type": "execute_result"
    }
   ],
   "source": [
    "cd.shape"
   ]
  },
  {
   "cell_type": "code",
   "execution_count": 71,
   "id": "fc86a9f2",
   "metadata": {
    "pycharm": {
     "name": "#%%\n"
    }
   },
   "outputs": [
    {
     "data": {
      "text/plain": [
       "<tf.Tensor: shape=(2, 4, 4), dtype=float64, numpy=\n",
       "array([[[-1.73651650e-01, -1.10288164e-06, -9.84807141e-01,\n",
       "         -4.99960056e-02],\n",
       "        [-2.79903712e-01,  9.58758595e-01,  4.93545202e-02,\n",
       "         -1.05552740e-01],\n",
       "        [ 9.44192256e-01,  2.84221668e-01, -1.66490320e-01,\n",
       "          5.16677349e-01],\n",
       "        [ 0.00000000e+00,  0.00000000e+00,  0.00000000e+00,\n",
       "          1.00000000e+00]],\n",
       "\n",
       "       [[-1.50698781e-01, -9.84807458e-01, -8.62794813e-02,\n",
       "         -4.99960056e-02],\n",
       "        [ 2.33482293e-01,  4.93509531e-02, -9.71107874e-01,\n",
       "         -1.05552740e-01],\n",
       "        [ 9.60612251e-01, -1.66489503e-01,  2.22497975e-01,\n",
       "          5.16677349e-01],\n",
       "        [ 0.00000000e+00,  0.00000000e+00,  0.00000000e+00,\n",
       "          1.00000000e+00]]])>"
      ]
     },
     "execution_count": 71,
     "metadata": {},
     "output_type": "execute_result"
    }
   ],
   "source": [
    "tf.scan(tf.matmul, cd)"
   ]
  },
  {
   "cell_type": "code",
   "execution_count": 72,
   "id": "c664b9a7",
   "metadata": {
    "pycharm": {
     "name": "#%%\n"
    }
   },
   "outputs": [],
   "source": [
    "?tf.scan"
   ]
  },
  {
   "cell_type": "code",
   "execution_count": 231,
   "id": "14611a2e",
   "metadata": {
    "pycharm": {
     "name": "#%%\n"
    }
   },
   "outputs": [
    {
     "data": {
      "text/plain": [
       "<tf.Tensor: shape=(7, 3, 3, 1), dtype=float64, numpy=\n",
       "array([[[[-0.17124658],\n",
       "         [-0.06993649],\n",
       "         [-0.4138558 ]],\n",
       "\n",
       "        [[-0.50603719],\n",
       "         [-0.42719361],\n",
       "         [ 0.54202848]],\n",
       "\n",
       "        [[-0.06727907],\n",
       "         [-0.11892278],\n",
       "         [ 0.28211799]]],\n",
       "\n",
       "\n",
       "       [[[-0.39374408],\n",
       "         [-0.19000019],\n",
       "         [-0.64396776]],\n",
       "\n",
       "        [[ 0.00215887],\n",
       "         [ 0.35059554],\n",
       "         [-0.84753214]],\n",
       "\n",
       "        [[-0.00502878],\n",
       "         [ 0.44887226],\n",
       "         [ 0.07822145]]],\n",
       "\n",
       "\n",
       "       [[[ 0.30350758],\n",
       "         [-0.9295535 ],\n",
       "         [-0.06478142]],\n",
       "\n",
       "        [[-0.5198795 ],\n",
       "         [ 0.47742382],\n",
       "         [-0.10230164]],\n",
       "\n",
       "        [[-0.59924486],\n",
       "         [-0.25387694],\n",
       "         [-0.26825786]]],\n",
       "\n",
       "\n",
       "       [[[-0.20954998],\n",
       "         [ 0.38099646],\n",
       "         [ 0.07490927]],\n",
       "\n",
       "        [[-0.43851939],\n",
       "         [ 0.16099065],\n",
       "         [-0.16464928]],\n",
       "\n",
       "        [[-0.52972384],\n",
       "         [-0.37599723],\n",
       "         [-0.30566384]]],\n",
       "\n",
       "\n",
       "       [[[-0.24744878],\n",
       "         [ 0.22028875],\n",
       "         [-0.395111  ]],\n",
       "\n",
       "        [[-0.52479367],\n",
       "         [-0.47748026],\n",
       "         [-0.16342376]],\n",
       "\n",
       "        [[ 0.12711811],\n",
       "         [ 0.50448157],\n",
       "         [-0.63899922]]],\n",
       "\n",
       "\n",
       "       [[[-0.24758007],\n",
       "         [-0.32553344],\n",
       "         [-0.09705374]],\n",
       "\n",
       "        [[ 0.41089792],\n",
       "         [-0.39755899],\n",
       "         [ 0.42833667]],\n",
       "\n",
       "        [[-0.26694366],\n",
       "         [ 0.83373585],\n",
       "         [-0.43307541]]],\n",
       "\n",
       "\n",
       "       [[[ 0.00883874],\n",
       "         [-0.61811101],\n",
       "         [-0.80344967]],\n",
       "\n",
       "        [[-0.27736761],\n",
       "         [ 0.1118954 ],\n",
       "         [-0.20926242]],\n",
       "\n",
       "        [[-0.12193869],\n",
       "         [-0.17316258],\n",
       "         [ 0.05550005]]]])>"
      ]
     },
     "execution_count": 231,
     "metadata": {},
     "output_type": "execute_result"
    }
   ],
   "source": [
    "tf.reshape(a, (7, 3, 3, 1)) - tf.reshape(b, (7, 3, 3, 1))"
   ]
  },
  {
   "cell_type": "code",
   "execution_count": 168,
   "id": "b507b991",
   "metadata": {
    "pycharm": {
     "name": "#%%\n"
    }
   },
   "outputs": [
    {
     "data": {
      "text/plain": [
       "<tf.Tensor: shape=(6, 1), dtype=float64, numpy=\n",
       "array([[0.05753113],\n",
       "       [0.45977023],\n",
       "       [0.56603137],\n",
       "       [0.03728876],\n",
       "       [0.80553725],\n",
       "       [0.35124361]])>"
      ]
     },
     "execution_count": 168,
     "metadata": {},
     "output_type": "execute_result"
    }
   ],
   "source": [
    "a[1:7]"
   ]
  },
  {
   "cell_type": "code",
   "execution_count": 174,
   "id": "1a46944e",
   "metadata": {
    "pycharm": {
     "name": "#%%\n"
    }
   },
   "outputs": [],
   "source": [
    "@tf.function\n",
    "def check(x, shift, idx):\n",
    "    return tf.concat([x[:idx], shift, x[idx+1:]], axis=0)"
   ]
  },
  {
   "cell_type": "code",
   "execution_count": 175,
   "id": "8e5fc7d7",
   "metadata": {
    "pycharm": {
     "name": "#%%\n"
    }
   },
   "outputs": [
    {
     "data": {
      "text/plain": [
       "<tf.Tensor: shape=(7,), dtype=int32, numpy=array([0, 1, 2, 3, 4, 5, 6], dtype=int32)>"
      ]
     },
     "execution_count": 175,
     "metadata": {},
     "output_type": "execute_result"
    }
   ],
   "source": [
    "elems"
   ]
  },
  {
   "cell_type": "code",
   "execution_count": 182,
   "id": "e78fb52c",
   "metadata": {
    "scrolled": false,
    "pycharm": {
     "name": "#%%\n"
    }
   },
   "outputs": [],
   "source": [
    "elems = tf.range(a.shape[0])\n",
    "out = tf.map_fn(lambda i: check(a, a[i, None] + 1, i), elems, fn_output_signature=tf.float64)"
   ]
  },
  {
   "cell_type": "code",
   "execution_count": 183,
   "id": "ccbdb364",
   "metadata": {
    "pycharm": {
     "name": "#%%\n"
    }
   },
   "outputs": [
    {
     "data": {
      "text/plain": [
       "TensorShape([0, 1])"
      ]
     },
     "execution_count": 183,
     "metadata": {},
     "output_type": "execute_result"
    }
   ],
   "source": [
    "tf.concat([tf.zeros((0, 1), dtype=tf.float64), tf.zeros((0, 1), dtype=tf.float64)], axis=0).shape"
   ]
  },
  {
   "cell_type": "code",
   "execution_count": 196,
   "id": "1c62ad5a",
   "metadata": {
    "scrolled": true,
    "pycharm": {
     "name": "#%%\n"
    }
   },
   "outputs": [
    {
     "name": "stdout",
     "output_type": "stream",
     "text": [
      "0\n",
      "tf.Tensor(\n",
      "[[0.05753113]\n",
      " [0.45977023]\n",
      " [0.56603137]\n",
      " [0.03728876]\n",
      " [0.80553725]\n",
      " [0.35124361]], shape=(6, 1), dtype=float64)\n",
      "1\n",
      "tf.Tensor(\n",
      "[[0.13718666]\n",
      " [0.45977023]\n",
      " [0.56603137]\n",
      " [0.03728876]\n",
      " [0.80553725]\n",
      " [0.35124361]], shape=(6, 1), dtype=float64)\n",
      "2\n",
      "tf.Tensor(\n",
      "[[0.13718666]\n",
      " [0.05753113]\n",
      " [0.56603137]\n",
      " [0.03728876]\n",
      " [0.80553725]\n",
      " [0.35124361]], shape=(6, 1), dtype=float64)\n",
      "3\n",
      "tf.Tensor(\n",
      "[[0.13718666]\n",
      " [0.05753113]\n",
      " [0.45977023]\n",
      " [0.03728876]\n",
      " [0.80553725]\n",
      " [0.35124361]], shape=(6, 1), dtype=float64)\n",
      "4\n",
      "tf.Tensor(\n",
      "[[0.13718666]\n",
      " [0.05753113]\n",
      " [0.45977023]\n",
      " [0.56603137]\n",
      " [0.80553725]\n",
      " [0.35124361]], shape=(6, 1), dtype=float64)\n",
      "5\n",
      "tf.Tensor(\n",
      "[[0.13718666]\n",
      " [0.05753113]\n",
      " [0.45977023]\n",
      " [0.56603137]\n",
      " [0.03728876]\n",
      " [0.35124361]], shape=(6, 1), dtype=float64)\n",
      "6\n",
      "tf.Tensor(\n",
      "[[0.13718666]\n",
      " [0.05753113]\n",
      " [0.45977023]\n",
      " [0.56603137]\n",
      " [0.03728876]\n",
      " [0.80553725]], shape=(6, 1), dtype=float64)\n"
     ]
    }
   ],
   "source": [
    "for i in range(7):\n",
    "    print(i)\n",
    "    print(tf.concat([a[:i], a[i+1:]], axis=0))"
   ]
  },
  {
   "cell_type": "code",
   "execution_count": 201,
   "id": "db26af6f",
   "metadata": {
    "pycharm": {
     "name": "#%%\n"
    }
   },
   "outputs": [
    {
     "data": {
      "text/plain": [
       "<tf.Tensor: shape=(1, 1, 7), dtype=float64, numpy=\n",
       "array([[[0.13718666, 0.05753113, 0.45977023, 0.56603137, 0.03728876,\n",
       "         0.80553725, 0.35124361]]])>"
      ]
     },
     "execution_count": 201,
     "metadata": {},
     "output_type": "execute_result"
    }
   ],
   "source": [
    "tf.reshape(a, (1, 1, 7))"
   ]
  },
  {
   "cell_type": "code",
   "execution_count": 304,
   "id": "4050e54b",
   "metadata": {
    "pycharm": {
     "name": "#%%\n"
    }
   },
   "outputs": [],
   "source": [
    "from scipy.interpolate import interpn"
   ]
  },
  {
   "cell_type": "code",
   "execution_count": 312,
   "id": "eaab53b4",
   "metadata": {
    "pycharm": {
     "name": "#%%\n"
    }
   },
   "outputs": [],
   "source": [
    "x = np.array(range(data_sdf.shape[0]))\n",
    "y = np.array(range(data_sdf.shape[1]))\n",
    "z = np.array(range(data_sdf.shape[2]))"
   ]
  },
  {
   "cell_type": "code",
   "execution_count": 314,
   "id": "f17bbb72",
   "metadata": {
    "pycharm": {
     "name": "#%%\n"
    }
   },
   "outputs": [
    {
     "data": {
      "text/plain": [
       "(102,)"
      ]
     },
     "execution_count": 314,
     "metadata": {},
     "output_type": "execute_result"
    }
   ],
   "source": [
    "x.shape"
   ]
  },
  {
   "cell_type": "code",
   "execution_count": 329,
   "id": "b134afa9",
   "metadata": {
    "pycharm": {
     "name": "#%%\n"
    }
   },
   "outputs": [
    {
     "data": {
      "text/plain": [
       "array([ 0.438564  ,  0.442496  ,  0.393867  ,  0.329259  ,  0.253584  ,\n",
       "        0.166085  ,  0.112069  ,  0.0985261 ,  0.0787241 ,  0.0578402 ,\n",
       "        0.0734999 ,  0.0505    , -0.00889993, -0.00889993, -0.00889993,\n",
       "        0.0171    ,  0.0171    ,  0.0171    ,  0.0170999 ,  0.0311999 ,\n",
       "        0.0311999 ,  0.0876    ,  0.0876    ])"
      ]
     },
     "execution_count": 329,
     "metadata": {},
     "output_type": "execute_result"
    }
   ],
   "source": [
    "interpn((x,y,z), data_sdf, idxes)"
   ]
  },
  {
   "cell_type": "code",
   "execution_count": 330,
   "id": "24034b6b",
   "metadata": {
    "pycharm": {
     "name": "#%%\n"
    }
   },
   "outputs": [
    {
     "data": {
      "text/plain": [
       "array([ 0.438564  ,  0.442496  ,  0.393867  ,  0.329259  ,  0.253584  ,\n",
       "        0.166085  ,  0.112069  ,  0.0985261 ,  0.0787241 ,  0.0578402 ,\n",
       "        0.0734999 ,  0.0505    , -0.00889993, -0.00889993, -0.00889993,\n",
       "        0.0171    ,  0.0171    ,  0.0171    ,  0.0170999 ,  0.0311999 ,\n",
       "        0.0311999 ,  0.0876    ,  0.0876    ])"
      ]
     },
     "execution_count": 330,
     "metadata": {},
     "output_type": "execute_result"
    }
   ],
   "source": [
    "\n",
    "sdf.get_distance(rel_pos)"
   ]
  },
  {
   "cell_type": "code",
   "execution_count": 321,
   "id": "fe19cc75",
   "metadata": {
    "pycharm": {
     "name": "#%%\n"
    }
   },
   "outputs": [
    {
     "data": {
      "text/plain": [
       "array([[  0,  56,  92],\n",
       "       [  0,  52,  91],\n",
       "       [  4,  52,  90],\n",
       "       [  9,  52,  90],\n",
       "       [ 14,  52,  92],\n",
       "       [ 19,  37,  96],\n",
       "       [ 24,  39,  95],\n",
       "       [ 24,  35,  95],\n",
       "       [ 28,  39,  95],\n",
       "       [ 28,  35,  95],\n",
       "       [ 32,  38,  95],\n",
       "       [ 32,  35,  95],\n",
       "       [ 36,  42, 101],\n",
       "       [ 36,  44, 101],\n",
       "       [ 37,  43, 101],\n",
       "       [ 37,  47,  99],\n",
       "       [ 41,  47,  99],\n",
       "       [ 40,  50,  99],\n",
       "       [ 42,  50,  99],\n",
       "       [ 37,  42,  98],\n",
       "       [ 41,  43,  98],\n",
       "       [ 41,  46,  94],\n",
       "       [ 43,  46,  94]])"
      ]
     },
     "execution_count": 321,
     "metadata": {},
     "output_type": "execute_result"
    }
   ],
   "source": [
    "idxes"
   ]
  },
  {
   "cell_type": "code",
   "execution_count": null,
   "id": "497bb432",
   "metadata": {
    "pycharm": {
     "name": "#%%\n"
    }
   },
   "outputs": [],
   "source": []
  }
 ],
 "metadata": {
  "kernelspec": {
   "display_name": "Python 3.9.0 64-bit ('gpflow-3.9.0')",
   "language": "python",
   "name": "python3"
  },
  "language_info": {
   "codemirror_mode": {
    "name": "ipython",
    "version": 3
   },
   "file_extension": ".py",
   "mimetype": "text/x-python",
   "name": "python",
   "nbconvert_exporter": "python",
   "pygments_lexer": "ipython3",
   "version": "3.9.0"
  },
  "vscode": {
   "interpreter": {
    "hash": "2a340a5e3febb3027518163e758cac03f052ae3a2e42684e4a985ce13300c1d8"
   }
  }
 },
 "nbformat": 4,
 "nbformat_minor": 5
}